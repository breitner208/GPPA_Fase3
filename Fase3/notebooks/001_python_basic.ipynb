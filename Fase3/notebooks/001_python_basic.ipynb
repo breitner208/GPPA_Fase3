{
  "cells": [
    {
      "cell_type": "markdown",
      "metadata": {
        "id": "JotXunZRIClk"
      },
      "source": [
        "# BASES DE PYTHON\n",
        "\n",
        "*   Variables\n",
        "*   Variables numéricas\n",
        "*   Variables de texto\n",
        "*   Rangos\n",
        "*   Listas\n",
        "*   Tuplas\n",
        "*   Diccionarios\n",
        "*   Condicionales\n",
        "*   Loops\n",
        "*   Funciones\n",
        "*   Lambda\n",
        "*   Funcion map\n",
        "*   Errores y excepciones\n",
        "*   Bibliografía\n"
      ]
    },
    {
      "cell_type": "markdown",
      "metadata": {},
      "source": [
        "formas de ejecutar  una celda:\n",
        "\n",
        "* CTRL + ENTER (luego de ejecutar se mantiene en la celda ejecutada)\n",
        "* SHIFT + ENTER (... se posiciona en la siguiente celda)"
      ]
    },
    {
      "cell_type": "markdown",
      "metadata": {
        "id": "NjozzhYC6Lwn"
      },
      "source": [
        "## Variables"
      ]
    },
    {
      "cell_type": "markdown",
      "metadata": {
        "id": "jQalsqZ48ND_"
      },
      "source": [
        "**Reglas para la creación de variables**\n",
        "\n",
        "* El nombre de una variable **debe comenzar** con una letra ó con _.\n",
        "* El nombre de una variable **no puede comenzar** con un número.\n",
        "* El nombre de una variable **sólo puede contener** carácteres alfa-numéricos.\n",
        "* El nombre de una variable tiene **sensibilidad a mayúsculas y minúsculas** (x es diferente de X)."
      ]
    },
    {
      "cell_type": "code",
      "execution_count": 130,
      "metadata": {
        "colab": {
          "base_uri": "https://localhost:8080/"
        },
        "id": "5C3iE7hZ6PpY",
        "outputId": "90809230-12f5-42b1-9dcd-59ddc200f8e5"
      },
      "outputs": [
        {
          "name": "stdout",
          "output_type": "stream",
          "text": [
            "Hola Mundo\n"
          ]
        }
      ],
      "source": [
        "# la asignacion de informacion a una variabl\n",
        "Hola_mundo = \"Hola Mundo\" # a la variable Hola_mundo le asigno una cadena de caracteres (string) delimitado por unas comillas\n",
        "print(Hola_mundo) # mostrar en pantalla la informacion asignada a la variable Hola_mundo"
      ]
    },
    {
      "cell_type": "code",
      "execution_count": 131,
      "metadata": {
        "colab": {
          "base_uri": "https://localhost:8080/"
        },
        "id": "K9pkuae56LGK",
        "outputId": "7948d66d-6b7a-4aa8-cd0d-d5e480e18f04"
      },
      "outputs": [
        {
          "name": "stdout",
          "output_type": "stream",
          "text": [
            "Hola \n",
            " Mundo\n"
          ]
        }
      ],
      "source": [
        "Hola_mundo2 = \"Hola \\n Mundo\" # \\n genera un salto de linea #REGEX # ENCODING\n",
        "print(Hola_mundo2)"
      ]
    },
    {
      "cell_type": "markdown",
      "metadata": {
        "id": "lWhYWwEGOnk5"
      },
      "source": [
        "## variables numéricas"
      ]
    },
    {
      "cell_type": "code",
      "execution_count": 132,
      "metadata": {
        "colab": {
          "base_uri": "https://localhost:8080/"
        },
        "id": "7wEUS6EUOvkh",
        "outputId": "bea35040-0813-4412-d6d8-53a25358b9be"
      },
      "outputs": [
        {
          "data": {
            "text/plain": [
              "20220820"
            ]
          },
          "execution_count": 132,
          "metadata": {},
          "output_type": "execute_result"
        }
      ],
      "source": [
        "20220820 # ver que no siempre una ejecución implica un asignación a una variable en memoria"
      ]
    },
    {
      "cell_type": "code",
      "execution_count": 133,
      "metadata": {
        "id": "8LoTAkFDO35E"
      },
      "outputs": [
        {
          "name": "stdout",
          "output_type": "stream",
          "text": [
            "20220820\n"
          ]
        }
      ],
      "source": [
        "num = 20220820 # asignar un valor numerico(entero) a la variable num\n",
        "print(num) # muestre lo que tiene la variable num"
      ]
    },
    {
      "cell_type": "code",
      "execution_count": 134,
      "metadata": {},
      "outputs": [
        {
          "data": {
            "text/plain": [
              "2.022082e+27"
            ]
          },
          "execution_count": 134,
          "metadata": {},
          "output_type": "execute_result"
        }
      ],
      "source": [
        "20220820*1e20\n"
      ]
    },
    {
      "cell_type": "code",
      "execution_count": 135,
      "metadata": {
        "id": "BZjejybxMzx_"
      },
      "outputs": [
        {
          "name": "stdout",
          "output_type": "stream",
          "text": [
            "<class 'int'>\n"
          ]
        }
      ],
      "source": [
        "num = 20220820 # asigna iformacion (integer) a variable\n",
        "print(type(num)) # utilizar type para obtener el tipo de dato"
      ]
    },
    {
      "cell_type": "code",
      "execution_count": 136,
      "metadata": {
        "id": "gwFnCuAyM3fb"
      },
      "outputs": [
        {
          "name": "stdout",
          "output_type": "stream",
          "text": [
            "<class 'float'>\n"
          ]
        }
      ],
      "source": [
        "num = 2022.0820 # asigna iformacion (float) a variable\n",
        "print(type(num)) # utilizar type para obtener el tipo de dato"
      ]
    },
    {
      "cell_type": "markdown",
      "metadata": {
        "id": "tHBtQEzCNKZ_"
      },
      "source": [
        "### Operadores"
      ]
    },
    {
      "cell_type": "markdown",
      "metadata": {
        "id": "dKSnGetNPpWa"
      },
      "source": [
        "Python soporta los siguientes operadores aritmeticos:\n",
        "\n",
        "*   \\+ (Adición)\n",
        "*   \\* (multiplicación)\n",
        "*   / (división)\n",
        "*   ** (potencia)\n",
        "*   // (división entera)."
      ]
    },
    {
      "cell_type": "code",
      "execution_count": 137,
      "metadata": {
        "id": "zPdC0ZE_PGnF"
      },
      "outputs": [
        {
          "name": "stdout",
          "output_type": "stream",
          "text": [
            "5\n"
          ]
        }
      ],
      "source": [
        "num_a = 2 # asignar informacion numerica a variable\n",
        "num_b = 3 # asignar informacion numerica a variable\n",
        "\n",
        "num = num_a + num_b # operar entre variables numericas\n",
        "print(num) # muestra el resultado de la operacion"
      ]
    },
    {
      "cell_type": "code",
      "execution_count": 138,
      "metadata": {
        "id": "VdRVcpzUAlJl"
      },
      "outputs": [
        {
          "name": "stdout",
          "output_type": "stream",
          "text": [
            "-1\n"
          ]
        }
      ],
      "source": [
        "num_a = 2 # asignar informacion numerica a variable\n",
        "num_b = 3 # asignar informacion numerica a variable\n",
        "\n",
        "num = num_a - num_b # operar entre variables numericas\n",
        "print(num) # muestra el resultado de la operacion"
      ]
    },
    {
      "cell_type": "code",
      "execution_count": 139,
      "metadata": {
        "id": "xhzU-cGgQF_A"
      },
      "outputs": [
        {
          "name": "stdout",
          "output_type": "stream",
          "text": [
            "6\n"
          ]
        }
      ],
      "source": [
        "num_a = 2 # asignar informacion numerica a variable\n",
        "num_b = 3 # asignar informacion numerica a variable\n",
        "\n",
        "num = num_a * num_b # operar entre variables numericas\n",
        "print(num) # muestra el resultado de la operacion"
      ]
    },
    {
      "cell_type": "code",
      "execution_count": 140,
      "metadata": {
        "id": "nX1FEL3YQFtb"
      },
      "outputs": [
        {
          "name": "stdout",
          "output_type": "stream",
          "text": [
            "0.6666666666666666\n"
          ]
        }
      ],
      "source": [
        "num_a = 2 # asignar informacion numerica a variable\n",
        "num_b = 3 # asignar informacion numerica a variable\n",
        "\n",
        "num = num_a / num_b # operar entre variables numericas\n",
        "print(num) # muestra el resultado de la operacion"
      ]
    },
    {
      "cell_type": "code",
      "execution_count": 141,
      "metadata": {
        "id": "HTjd9WdbQFie"
      },
      "outputs": [
        {
          "name": "stdout",
          "output_type": "stream",
          "text": [
            "8\n"
          ]
        }
      ],
      "source": [
        "num_a = 2\n",
        "num_b = 3\n",
        "\n",
        "num = num_a ** num_b # variable num_a elevada a la variable num_b\n",
        "print(num)"
      ]
    },
    {
      "cell_type": "code",
      "execution_count": 142,
      "metadata": {
        "id": "1oPliCi3QH4d"
      },
      "outputs": [
        {
          "name": "stdout",
          "output_type": "stream",
          "text": [
            "2.25\n"
          ]
        }
      ],
      "source": [
        "num_a = 9\n",
        "num_b = 4\n",
        "\n",
        "num = num_a / num_b # division\n",
        "print(num)"
      ]
    },
    {
      "cell_type": "code",
      "execution_count": 143,
      "metadata": {
        "id": "mNsvPOh1QFUJ"
      },
      "outputs": [
        {
          "name": "stdout",
          "output_type": "stream",
          "text": [
            "2\n"
          ]
        }
      ],
      "source": [
        "num_a = 9\n",
        "num_b = 4\n",
        "num = num_a // num_b # division entera\n",
        "print(num)"
      ]
    },
    {
      "cell_type": "code",
      "execution_count": 144,
      "metadata": {
        "id": "7hsLUZNrJ5Mp"
      },
      "outputs": [
        {
          "name": "stdout",
          "output_type": "stream",
          "text": [
            "<class 'int'>\n",
            "6\n"
          ]
        }
      ],
      "source": [
        "num = round(5.6) # funciones de redondeo (ojo) funciones de redondeo de numpy\n",
        "print(type(num))\n",
        "print((num))"
      ]
    },
    {
      "cell_type": "markdown",
      "metadata": {
        "id": "XgUduxV4MqQ-"
      },
      "source": [
        "## variables de texto"
      ]
    },
    {
      "cell_type": "markdown",
      "metadata": {
        "id": "Rgm3R1qXRAKv"
      },
      "source": [
        "Una cadena es una secuencia de caracteres\n",
        "* son inmutables"
      ]
    },
    {
      "cell_type": "code",
      "execution_count": 145,
      "metadata": {
        "id": "FQsbzcMAHmjQ"
      },
      "outputs": [
        {
          "name": "stdout",
          "output_type": "stream",
          "text": [
            "Hola\n"
          ]
        }
      ],
      "source": [
        "print('Hola') # cadena de caratceres o texto que estan delmitadas por comillas simples' ', dobles \" \" o por triple comilla doble \"\"\" \"\"\""
      ]
    },
    {
      "cell_type": "code",
      "execution_count": 146,
      "metadata": {
        "id": "c6sLnFPfAlJm"
      },
      "outputs": [
        {
          "name": "stdout",
          "output_type": "stream",
          "text": [
            "Hola\n"
          ]
        }
      ],
      "source": [
        "txt = \"Hola\" # asigna una cadena de caratcer a una variable\n",
        "print(txt)"
      ]
    },
    {
      "cell_type": "code",
      "execution_count": 148,
      "metadata": {
        "id": "ev14RputXKcA"
      },
      "outputs": [
        {
          "name": "stdout",
          "output_type": "stream",
          "text": [
            "Hola 'campeón', cómo te fue en tu partido?\n"
          ]
        }
      ],
      "source": [
        "txt = \"Hola 'campeón', cómo te fue en tu partido?\" # utilizar comillas dentro del texto\n",
        "print(txt)"
      ]
    },
    {
      "cell_type": "code",
      "execution_count": 149,
      "metadata": {
        "id": "1gVph-LTAlJn"
      },
      "outputs": [
        {
          "name": "stdout",
          "output_type": "stream",
          "text": [
            "Hola \"campeón\", cómo te fue en tu partido?\n"
          ]
        }
      ],
      "source": [
        "txt = 'Hola \"campeón\", cómo te fue en tu partido?' # utilizar comillas dentro del texto\n",
        "print(txt)"
      ]
    },
    {
      "cell_type": "code",
      "execution_count": 150,
      "metadata": {},
      "outputs": [
        {
          "data": {
            "text/plain": [
              "'Poverty is the deprivation of opportunity.\\n Education makes us the human beings we are.\\n Poverty is the deprivation of opportunity.\\n Education makes us the human beings we are.\\n Poverty is the deprivation of opportunity.\\n Education makes us the human beings we are.\\n Poverty is the deprivation of opportunity.\\n Education makes us the human beings we are.\\n Poverty is the deprivation of opportunity.\\n Education makes us the human beings we are.\\n Poverty is the deprivation of opportunity.\\n Education makes us the human beings we are.'"
            ]
          },
          "execution_count": 150,
          "metadata": {},
          "output_type": "execute_result"
        }
      ],
      "source": [
        "'''Poverty is the deprivation of opportunity.\n",
        " Education makes us the human beings we are.\n",
        " Poverty is the deprivation of opportunity.\n",
        " Education makes us the human beings we are.\n",
        " Poverty is the deprivation of opportunity.\n",
        " Education makes us the human beings we are.\n",
        " Poverty is the deprivation of opportunity.\n",
        " Education makes us the human beings we are.\n",
        " Poverty is the deprivation of opportunity.\n",
        " Education makes us the human beings we are.\n",
        " Poverty is the deprivation of opportunity.\n",
        " Education makes us the human beings we are.'''"
      ]
    },
    {
      "cell_type": "code",
      "execution_count": 151,
      "metadata": {
        "id": "FNgnNs3xIUf8"
      },
      "outputs": [
        {
          "data": {
            "text/plain": [
              "'Poverty is the deprivation of opportunity.\\n Education makes us the human beings we are.\\n Poverty is the deprivation of opportunity.\\n Education makes us the human beings we are.\\n Poverty is the deprivation of opportunity.\\n Education makes us the human beings we are.\\n Poverty is the deprivation of opportunity.\\n Education makes us the human beings we are.\\n Poverty is the deprivation of opportunity.\\n Education makes us the human beings we are.\\n Poverty is the deprivation of opportunity.\\n Education makes us the human beings we are.'"
            ]
          },
          "execution_count": 151,
          "metadata": {},
          "output_type": "execute_result"
        }
      ],
      "source": [
        "\"\"\"Poverty is the deprivation of opportunity.\n",
        " Education makes us the human beings we are.\n",
        " Poverty is the deprivation of opportunity.\n",
        " Education makes us the human beings we are.\n",
        " Poverty is the deprivation of opportunity.\n",
        " Education makes us the human beings we are.\n",
        " Poverty is the deprivation of opportunity.\n",
        " Education makes us the human beings we are.\n",
        " Poverty is the deprivation of opportunity.\n",
        " Education makes us the human beings we are.\n",
        " Poverty is the deprivation of opportunity.\n",
        " Education makes us the human beings we are.\"\"\""
      ]
    },
    {
      "cell_type": "code",
      "execution_count": 152,
      "metadata": {
        "id": "AavkgQs5JJvo"
      },
      "outputs": [
        {
          "name": "stdout",
          "output_type": "stream",
          "text": [
            "Poverty is the deprivation of opportunity.\n",
            "Education makes us the human beings we are.\n"
          ]
        }
      ],
      "source": [
        "# el uiso de triple doble comilla es para textos largos, parrafos y/o con saltos de linea\n",
        "txt = \"\"\"Poverty is the deprivation of opportunity.\n",
        "Education makes us the human beings we are.\"\"\"\n",
        "print(txt)"
      ]
    },
    {
      "cell_type": "code",
      "execution_count": 153,
      "metadata": {
        "id": "dmA6MmQ0Ih_E"
      },
      "outputs": [
        {
          "name": "stdout",
          "output_type": "stream",
          "text": [
            "Poverty is the deprivation of 'opportunity'.\n",
            "\"Education\" makes us the human beings we are.\n"
          ]
        }
      ],
      "source": [
        "# uso de comillas dentro de comillas, deben ser diferentes a las que utilizan para delimitar\n",
        "txt = \"\"\"Poverty is the deprivation of 'opportunity'.\n",
        "\"Education\" makes us the human beings we are.\"\"\"\n",
        "print(txt)"
      ]
    },
    {
      "cell_type": "code",
      "execution_count": 154,
      "metadata": {
        "id": "ps3Xa7h3JDz6"
      },
      "outputs": [
        {
          "name": "stdout",
          "output_type": "stream",
          "text": [
            "La ruta del archivo es C:\n",
            "ombre\\lesson.ipynb\n"
          ]
        },
        {
          "name": "stderr",
          "output_type": "stream",
          "text": [
            "<>:1: SyntaxWarning: invalid escape sequence '\\l'\n",
            "<>:1: SyntaxWarning: invalid escape sequence '\\l'\n",
            "C:\\Users\\anmmu\\AppData\\Local\\Temp\\ipykernel_11092\\4069560981.py:1: SyntaxWarning: invalid escape sequence '\\l'\n",
            "  txt = 'La ruta del archivo es C:\\nombre\\lesson.ipynb' # asignacion de informacion a variables\n"
          ]
        }
      ],
      "source": [
        "txt = 'La ruta del archivo es C:\\nombre\\lesson.ipynb' # asignacion de informacion a variables\n",
        "print(txt) # mostrar en pantalla la informacion dentro de la variable"
      ]
    },
    {
      "cell_type": "code",
      "execution_count": 155,
      "metadata": {
        "id": "5HodPCi7JDpu"
      },
      "outputs": [
        {
          "name": "stdout",
          "output_type": "stream",
          "text": [
            "La ruta del archivo es C:\\nombre\\lesson.ipynb\n"
          ]
        }
      ],
      "source": [
        "# formas de escapar a expresion\n",
        "# uso de \\ antes de la expresion\n",
        "txt = 'La ruta del archivo es C:\\\\nombre\\\\lesson.ipynb'\n",
        "print(txt)"
      ]
    },
    {
      "cell_type": "code",
      "execution_count": 156,
      "metadata": {
        "id": "ghxSo0mcJc3n"
      },
      "outputs": [
        {
          "name": "stdout",
          "output_type": "stream",
          "text": [
            "La ruta del archivo es C:\\nombre\\lesson.ipynb\n"
          ]
        }
      ],
      "source": [
        "# tomar de forma estricta y literal lo que se escribe\n",
        "# uso de r antes de el string\n",
        "txt = r'La ruta del archivo es C:\\nombre\\lesson.ipynb'\n",
        "print(txt)"
      ]
    },
    {
      "cell_type": "markdown",
      "metadata": {
        "id": "fgB1EzfVNOZU"
      },
      "source": [
        "### operadores"
      ]
    },
    {
      "cell_type": "code",
      "execution_count": 157,
      "metadata": {
        "id": "UnFo3HnWJ5DI"
      },
      "outputs": [
        {
          "name": "stdout",
          "output_type": "stream",
          "text": [
            "Poverty is the deprivation of opportunity.\n"
          ]
        }
      ],
      "source": [
        "txt_a = 'Poverty is the '\n",
        "txt_b = 'deprivation of opportunity.'\n",
        "\n",
        "txt = txt_a+txt_b # operador de suma para vars de texto (concatenar|paste)\n",
        "print(txt)"
      ]
    },
    {
      "cell_type": "code",
      "execution_count": 158,
      "metadata": {
        "id": "hzHt_IzqJaPQ"
      },
      "outputs": [
        {
          "name": "stdout",
          "output_type": "stream",
          "text": [
            "Poverty is the deprivation of opportunity. \n",
            "Education makes us the human beings we are.\n"
          ]
        }
      ],
      "source": [
        "txt_a = 'Poverty is the deprivation of opportunity.'\n",
        "txt_b = ' \\n'\n",
        "txt_c = 'Education makes us the human beings we are.'\n",
        "\n",
        "txt = txt_a+txt_b+txt_c # puedo concatenar varias vars de texto\n",
        "print(txt)"
      ]
    },
    {
      "cell_type": "code",
      "execution_count": 159,
      "metadata": {
        "id": "L5Ltt9So77bz"
      },
      "outputs": [
        {
          "name": "stdout",
          "output_type": "stream",
          "text": [
            "peace_peace_peace_peace_peace_\n"
          ]
        }
      ],
      "source": [
        "txt_a = 'peace_' # var de texto\n",
        "txt_times = 5 # var numerica\n",
        "\n",
        "txt = txt_a*txt_times # escriber tantas veces un mismo texto\n",
        "print(txt)"
      ]
    },
    {
      "cell_type": "markdown",
      "metadata": {
        "id": "FOJDvodhNShf"
      },
      "source": [
        "### entrada de texto"
      ]
    },
    {
      "cell_type": "code",
      "execution_count": 160,
      "metadata": {
        "id": "EBtdD_zhJtia"
      },
      "outputs": [
        {
          "name": "stdout",
          "output_type": "stream",
          "text": [
            "cosa\n"
          ]
        }
      ],
      "source": [
        "txt_input = input(\"no escribas nada: \") # escribe mnensaje en pantalla para esperar entrada del usuario\n",
        "print(txt_input)"
      ]
    },
    {
      "cell_type": "markdown",
      "metadata": {
        "id": "PaUShapyNVAt"
      },
      "source": [
        "### tratamiento de texto (métodos)"
      ]
    },
    {
      "cell_type": "code",
      "execution_count": 161,
      "metadata": {
        "id": "5OM43F3mAlJo"
      },
      "outputs": [
        {
          "name": "stdout",
          "output_type": "stream",
          "text": [
            "             Poverty Is The             \n"
          ]
        }
      ],
      "source": [
        "txt_a = '             Poverty Is The             '\n",
        "print(txt_a)"
      ]
    },
    {
      "cell_type": "markdown",
      "metadata": {
        "id": "FbnOwOAQAlJs"
      },
      "source": [
        "* metodos para convertir a mayuscula y/o minuscula"
      ]
    },
    {
      "cell_type": "code",
      "execution_count": 162,
      "metadata": {
        "id": "BpUVEJtWKexD"
      },
      "outputs": [
        {
          "name": "stdout",
          "output_type": "stream",
          "text": [
            "             poverty is the             \n"
          ]
        }
      ],
      "source": [
        "txt_a = '             Poverty Is The             '\n",
        "txt = txt_a.lower() # metodo pasar a minusculas\n",
        "print(txt)"
      ]
    },
    {
      "cell_type": "code",
      "execution_count": 163,
      "metadata": {
        "id": "9SmweogZKvIt"
      },
      "outputs": [
        {
          "name": "stdout",
          "output_type": "stream",
          "text": [
            "             POVERTY IS THE             \n"
          ]
        }
      ],
      "source": [
        "txt_a = '             Poverty Is The             '\n",
        "txt = txt_a.upper() # metodo para pasar a mayusculas\n",
        "print(txt)"
      ]
    },
    {
      "cell_type": "markdown",
      "metadata": {
        "id": "8rYJtf4-AlJt"
      },
      "source": [
        "* borrar los espacios extremos redundantes"
      ]
    },
    {
      "cell_type": "code",
      "execution_count": 164,
      "metadata": {
        "id": "TZJ4cHvNLsZ-"
      },
      "outputs": [
        {
          "name": "stdout",
          "output_type": "stream",
          "text": [
            "Poverty Is The             \n"
          ]
        }
      ],
      "source": [
        "txt_a = '             Poverty Is The             '\n",
        "txt = txt_a.lstrip() # metodo para quitar los vacios a la izquierda (left)\n",
        "print(txt)"
      ]
    },
    {
      "cell_type": "code",
      "execution_count": 165,
      "metadata": {
        "id": "ORcEv08MLtDR"
      },
      "outputs": [
        {
          "name": "stdout",
          "output_type": "stream",
          "text": [
            "             Poverty Is The\n"
          ]
        }
      ],
      "source": [
        "txt_a = '             Poverty Is The             '\n",
        "txt = txt_a.rstrip()# metodo para quitar los vacios a la derecha (right)\n",
        "print(txt)"
      ]
    },
    {
      "cell_type": "code",
      "execution_count": 166,
      "metadata": {},
      "outputs": [
        {
          "name": "stdout",
          "output_type": "stream",
          "text": [
            "Poverty Is The\n"
          ]
        }
      ],
      "source": [
        "txt_a = '             Poverty Is The             '\n",
        "txt = txt_a.rstrip().lstrip()# metodo para quitar los vacios a la derecha (right)\n",
        "print(txt)"
      ]
    },
    {
      "cell_type": "code",
      "execution_count": 167,
      "metadata": {
        "id": "_SaWdXLFLtjx"
      },
      "outputs": [
        {
          "name": "stdout",
          "output_type": "stream",
          "text": [
            "Poverty Is The\n"
          ]
        }
      ],
      "source": [
        "txt_a = '             Poverty Is The             '\n",
        "txt = txt_a.strip() # metodo para quitar los vacios a ambos lados\n",
        "print(txt)"
      ]
    },
    {
      "cell_type": "markdown",
      "metadata": {
        "id": "zvLTptP7AlJt"
      },
      "source": [
        "* condiciones"
      ]
    },
    {
      "cell_type": "code",
      "execution_count": 168,
      "metadata": {
        "id": "UXeVxFstL60w"
      },
      "outputs": [
        {
          "name": "stdout",
          "output_type": "stream",
          "text": [
            "False\n"
          ]
        }
      ],
      "source": [
        "txt_a = '             Poverty Is The             '\n",
        "txt = txt_a.startswith(\"Po\") # metodo para revisar si comienza con\n",
        "print(txt)"
      ]
    },
    {
      "cell_type": "code",
      "execution_count": 169,
      "metadata": {
        "id": "96OAjKnlMKAg"
      },
      "outputs": [
        {
          "name": "stdout",
          "output_type": "stream",
          "text": [
            "True\n"
          ]
        }
      ],
      "source": [
        "txt_a = '             Poverty Is The             '\n",
        "# podemos encadenar varios metodos... el resultado de aplicar uno le podemos aplicar el siguiente\n",
        "txt = txt_a.strip().startswith(\"Po\") # metodo para quitar vacios y luego si verificar si inicia con po\n",
        "print(txt)"
      ]
    },
    {
      "cell_type": "code",
      "execution_count": 170,
      "metadata": {
        "id": "CQ1eb0zVAlJu"
      },
      "outputs": [
        {
          "name": "stdout",
          "output_type": "stream",
          "text": [
            "True\n"
          ]
        }
      ],
      "source": [
        "txt_a = '             Poverty Is The             '\n",
        "# podemos encadenar varios metodos... el resultado de aplicar uno le podemos aplicar el siguiente\n",
        "txt = txt_a.strip().lower().startswith(\"po\") # metodo para quitar vacios y luego si verificar si inicia con po\n",
        "print(txt)"
      ]
    },
    {
      "cell_type": "code",
      "execution_count": 171,
      "metadata": {
        "id": "FsImCz6-g3AY"
      },
      "outputs": [
        {
          "name": "stdout",
          "output_type": "stream",
          "text": [
            "True\n"
          ]
        }
      ],
      "source": [
        "txt_a = '             Poverty Is The             '\n",
        "txt = txt_a.upper().strip().endswith('THE')\n",
        "print(txt)"
      ]
    },
    {
      "cell_type": "code",
      "execution_count": 172,
      "metadata": {
        "id": "FzFnbImWNDaa"
      },
      "outputs": [
        {
          "name": "stdout",
          "output_type": "stream",
          "text": [
            "13\n"
          ]
        }
      ],
      "source": [
        "txt_a = '             Poverty Is The             '\n",
        "pattern = 'Poverty'\n",
        "txt = txt_a.find(pattern) # metodo de busqueda de un patroin y devuelve posicion dentro de string\n",
        "print(txt)"
      ]
    },
    {
      "cell_type": "code",
      "execution_count": 173,
      "metadata": {
        "id": "XuMAEyXTAlJv"
      },
      "outputs": [
        {
          "name": "stdout",
          "output_type": "stream",
          "text": [
            "18\n"
          ]
        }
      ],
      "source": [
        "txt_a = '             Poverty Is The             '\n",
        "pattern = 'ty'\n",
        "txt = txt_a.find(pattern) # metodo de busqueda de un patroin y devuelve posicion dentro de string\n",
        "print(txt)"
      ]
    },
    {
      "cell_type": "code",
      "execution_count": 174,
      "metadata": {
        "id": "0_7I-ysiMSbt"
      },
      "outputs": [
        {
          "name": "stdout",
          "output_type": "stream",
          "text": [
            "Poverty is the deprivation of opportunity. Education makes us the human beings we are.\n"
          ]
        }
      ],
      "source": [
        "# yo puedo utilizar la informacion en variables para completar texto indexado\n",
        "txt_a = 'Poverty is the deprivation of opportunity.'\n",
        "txt_b = 'Education makes us the human beings we are.'\n",
        "\n",
        "print(\"{} {}\".format(txt_a, txt_b))"
      ]
    },
    {
      "cell_type": "code",
      "execution_count": 175,
      "metadata": {
        "id": "mRdTQEcWM8Rr"
      },
      "outputs": [
        {
          "name": "stdout",
          "output_type": "stream",
          "text": [
            "Poverty is the deprivation of opportunity. Education makes us the human beings we are..\n"
          ]
        }
      ],
      "source": [
        "txt_a = 'Poverty is the deprivation of opportunity.'\n",
        "txt_b = 'Education makes us the human beings we are.'\n",
        "\n",
        "print(\"{0} {1}.\".format(txt_a, txt_b))"
      ]
    },
    {
      "cell_type": "code",
      "execution_count": 176,
      "metadata": {
        "id": "ae1250Z6M-wR"
      },
      "outputs": [
        {
          "name": "stdout",
          "output_type": "stream",
          "text": [
            "Education makes us the human beings we are. Poverty is the deprivation of opportunity..\n"
          ]
        }
      ],
      "source": [
        "txt_a = 'Poverty is the deprivation of opportunity.'\n",
        "txt_b = 'Education makes us the human beings we are.'\n",
        "print(\"{1} {0}.\".format(txt_a, txt_b))"
      ]
    },
    {
      "cell_type": "code",
      "execution_count": 177,
      "metadata": {
        "id": "_KaMvFB4AlJu"
      },
      "outputs": [
        {
          "name": "stdout",
          "output_type": "stream",
          "text": [
            "a Andres no le gustan los viernes, a Andres tampoco le gustan los lunes\n"
          ]
        }
      ],
      "source": [
        "txt_a = 'a Andres'\n",
        "txt_b = 'no le gustan los viernes'\n",
        "txt_c = 'tampoco le gustan los lunes'\n",
        "\n",
        "print(\"{0} {1}, {0} {2}\".format(txt_a, txt_b, txt_c))"
      ]
    },
    {
      "cell_type": "code",
      "execution_count": 178,
      "metadata": {
        "id": "2oBZAsHZjsNt"
      },
      "outputs": [
        {
          "name": "stdout",
          "output_type": "stream",
          "text": [
            "Cuenta de Cobro carlos\n",
            "Buenas tardes \n",
            "escribo en nombre de carlos para dar aviso de mi cuenta de cobro para el periodo 2024/6. \n",
            "muchas gracias\n"
          ]
        }
      ],
      "source": [
        "# ejemplo correo\n",
        "\n",
        "# variables con las que se pretende diligenciar\n",
        "nombre = 'carlos'\n",
        "periodo = '2024/6'\n",
        "\n",
        "# textos que se van a completar/diligenciar\n",
        "asunto = 'Cuenta de Cobro {0}'.format(nombre)\n",
        "cuerpo = 'Buenas tardes \\nescribo en nombre de {0} para dar aviso de mi cuenta de cobro para el periodo {1}. \\nmuchas gracias'.format(nombre, periodo)\n",
        "\n",
        "# mostrarb en pantalla\n",
        "print(asunto)\n",
        "print(cuerpo)"
      ]
    },
    {
      "cell_type": "markdown",
      "metadata": {
        "id": "cvgpPFi7h7vg"
      },
      "source": [
        "* Longitud"
      ]
    },
    {
      "cell_type": "code",
      "execution_count": 179,
      "metadata": {
        "id": "Hhlcc56R7Swr"
      },
      "outputs": [
        {
          "data": {
            "text/plain": [
              "10"
            ]
          },
          "execution_count": 179,
          "metadata": {},
          "output_type": "execute_result"
        }
      ],
      "source": [
        "txt = 'Hola mundo'\n",
        "len(txt) # es la longitud de una variable de texto (lenght)"
      ]
    },
    {
      "cell_type": "markdown",
      "metadata": {
        "id": "KTW-t3_17QiB"
      },
      "source": [
        "## Rangos"
      ]
    },
    {
      "cell_type": "markdown",
      "metadata": {
        "id": "Mm_IJKGSJjsb"
      },
      "source": [
        "Es una función que devuelve una secuencia de numeros.\n",
        "* Todas las secuencias en Python comienzan a numerarse desde 0 (n-1)-ésimo elemento de un tupla"
      ]
    },
    {
      "cell_type": "markdown",
      "metadata": {},
      "source": [
        "* crear una variable rango con un solo argumento"
      ]
    },
    {
      "cell_type": "code",
      "execution_count": 180,
      "metadata": {
        "id": "oamGf_TnAlJv"
      },
      "outputs": [
        {
          "name": "stdout",
          "output_type": "stream",
          "text": [
            "<class 'range'>\n",
            "range(0, 10)\n",
            "0\n",
            "1\n",
            "2\n",
            "3\n",
            "4\n",
            "5\n",
            "6\n",
            "7\n",
            "8\n",
            "9\n"
          ]
        }
      ],
      "source": [
        "# el caso en el que le doy solo una entrada al rango\n",
        "rang = range(10) # asignar a una variable un rango\n",
        "print(type(rang)) # muestreme en pantalla el tipo de objeto o informacion en la variable\n",
        "print(rang) # muestre la informacion dentro del objeto\n",
        "\n",
        "# FOR estructura de control o bucles o ciclos\n",
        "for iterable in rang: #\n",
        "  print(iterable) # va a mostrar en pantalla los elementos del rango"
      ]
    },
    {
      "cell_type": "markdown",
      "metadata": {},
      "source": [
        "* crear una variable rango con dos argumentos"
      ]
    },
    {
      "cell_type": "code",
      "execution_count": 181,
      "metadata": {
        "id": "Dejnealo7jj6"
      },
      "outputs": [
        {
          "name": "stdout",
          "output_type": "stream",
          "text": [
            "<class 'range'>\n",
            "range(3, 10)\n",
            "3\n",
            "4\n",
            "5\n",
            "6\n",
            "7\n",
            "8\n",
            "9\n"
          ]
        }
      ],
      "source": [
        "# el caso en el que le doy dos entrada al rango\n",
        "rang = range(3, 10) # asignar a una variable un rango\n",
        "print(type(rang)) # muestreme en pantalla el tipo de objeto o informacion en la variable\n",
        "print(rang) # muestre la informacion dentro del objeto\n",
        "\n",
        "# FOR estructura de control o bucles o ciclos\n",
        "for num in rang: #\n",
        "  print(num) # va a mostrar en pantalla los elementos del rango"
      ]
    },
    {
      "cell_type": "markdown",
      "metadata": {},
      "source": [
        "* crear una variable rango con tres argumentos"
      ]
    },
    {
      "cell_type": "code",
      "execution_count": 182,
      "metadata": {
        "id": "WN9x3nDW74wB"
      },
      "outputs": [
        {
          "name": "stdout",
          "output_type": "stream",
          "text": [
            "<class 'range'>\n",
            "range(1, 29, 5)\n",
            "1\n",
            "6\n",
            "11\n",
            "16\n",
            "21\n",
            "26\n"
          ]
        }
      ],
      "source": [
        "# el caso en el que le doy tres entrada al rango\n",
        "rang = range(1, 29, 5) # saltos al rango 5,7,9,11,13,15 ... no incluye 16\n",
        "print(type(rang))\n",
        "print(rang)\n",
        "\n",
        "for num in rang:\n",
        "  print(num)"
      ]
    },
    {
      "cell_type": "code",
      "execution_count": 183,
      "metadata": {
        "id": "QCKo-XjfKTvj"
      },
      "outputs": [
        {
          "name": "stdout",
          "output_type": "stream",
          "text": [
            "el resultado de la iteracion es 1 y 2\n",
            "el resultado de la iteracion es 6 y 12\n",
            "el resultado de la iteracion es 11 y 22\n",
            "el resultado de la iteracion es 16 y 32\n",
            "el resultado de la iteracion es 21 y 42\n",
            "el resultado de la iteracion es 26 y 52\n"
          ]
        }
      ],
      "source": [
        "# atencion IDENTACION\n",
        "# Para cada (i) en el rango **\n",
        "for i in range(1, 29, 5):\n",
        "  j = i*2\n",
        "  # operar segun el tipo variable : para concatenar se necesitan vars de texto\n",
        "  print('el resultado de la iteracion es '+str(i)+' y '+str(j))"
      ]
    },
    {
      "cell_type": "markdown",
      "metadata": {
        "id": "pBCamJX7QmNU"
      },
      "source": [
        "## listas"
      ]
    },
    {
      "cell_type": "markdown",
      "metadata": {
        "id": "GbT6Wb8HPfIt"
      },
      "source": [
        "* Son secuencias mutables\n",
        "* Para buscar en las listas, se utiliza un algoritmo de comparación que tarda cada vez más a medida que la lista se hace más larga.\n",
        "\n"
      ]
    },
    {
      "cell_type": "code",
      "execution_count": 184,
      "metadata": {
        "id": "5_H-4P88NUW7"
      },
      "outputs": [
        {
          "name": "stdout",
          "output_type": "stream",
          "text": [
            "[]\n"
          ]
        }
      ],
      "source": [
        "list = [] # asignar una lista vacia a la variable\n",
        "print(list)"
      ]
    },
    {
      "cell_type": "code",
      "execution_count": 185,
      "metadata": {
        "id": "gt6VGPAoAlJw"
      },
      "outputs": [
        {
          "name": "stdout",
          "output_type": "stream",
          "text": [
            "Hoy es el día 2024/03/15\n"
          ]
        }
      ],
      "source": [
        "# ejemplo del futuro\n",
        "list = ['2024', '03','15']\n",
        "\n",
        "# acceder a la información de la lista\n",
        "print('Hoy es el día {}/{}/{}'.format(list[0],list[1],list[2]))"
      ]
    },
    {
      "cell_type": "code",
      "execution_count": 186,
      "metadata": {
        "id": "C91U45WIQxSA"
      },
      "outputs": [
        {
          "name": "stdout",
          "output_type": "stream",
          "text": [
            "['2022', '08', '20']\n"
          ]
        }
      ],
      "source": [
        "list = ['2022', '08', '20'] # asignar una lista de tres elementos/variables de texto\n",
        "print(list)"
      ]
    },
    {
      "cell_type": "code",
      "execution_count": 187,
      "metadata": {
        "id": "vy1aT1y5AlJx"
      },
      "outputs": [
        {
          "name": "stdout",
          "output_type": "stream",
          "text": [
            "[2022, 8, 20]\n"
          ]
        }
      ],
      "source": [
        "list = [2022,8,20] # asignar una lista de tres elementos/variables de numericos\n",
        "print(list)"
      ]
    },
    {
      "cell_type": "code",
      "execution_count": 188,
      "metadata": {
        "id": "SP90i_5eAlJx"
      },
      "outputs": [
        {
          "name": "stdout",
          "output_type": "stream",
          "text": [
            "[2022, 8, 20, 'sabado']\n"
          ]
        }
      ],
      "source": [
        "list = [2022, 8, 20, 'sabado'] # asignar una lista de tres elementos/variables numericos o de texto\n",
        "print(list)"
      ]
    },
    {
      "cell_type": "markdown",
      "metadata": {
        "id": "5rtyz6r3AlJx"
      },
      "source": [
        "* metodo para mutar listas"
      ]
    },
    {
      "cell_type": "code",
      "execution_count": 189,
      "metadata": {
        "id": "Qf6m3EGfRBfh"
      },
      "outputs": [
        {
          "data": {
            "text/plain": [
              "['2022', '08', '20', 'sabado']"
            ]
          },
          "execution_count": 189,
          "metadata": {},
          "output_type": "execute_result"
        }
      ],
      "source": [
        "list_a = ['2022', '08', '20'] #crear la lista\n",
        "txt_b = 'sabado'# variable de texto\n",
        "\n",
        "list_a.append(txt_b)# metodo append para agregar a la lista un nuevo elemento\n",
        "list_a"
      ]
    },
    {
      "cell_type": "code",
      "execution_count": 190,
      "metadata": {
        "id": "iK0ALjA4Q3oZ"
      },
      "outputs": [
        {
          "name": "stdout",
          "output_type": "stream",
          "text": [
            "[2022, 8, 20, 'sabado']\n"
          ]
        }
      ],
      "source": [
        "list = [2022, 8, 20] #crear la lista\n",
        "txt_a = 'sabado' # variable de texto\n",
        "\n",
        "list.append(txt_a) # metodo append para agregar a la lista un nuevo elemento\n",
        "print(list)"
      ]
    },
    {
      "cell_type": "code",
      "execution_count": 191,
      "metadata": {
        "id": "PpHrD3K1TJrd"
      },
      "outputs": [
        {
          "data": {
            "text/plain": [
              "'20'"
            ]
          },
          "execution_count": 191,
          "metadata": {},
          "output_type": "execute_result"
        }
      ],
      "source": [
        "list = ['2022', '08', '20']\n",
        "\n",
        "list[2] # posicion de elementos en una lista"
      ]
    },
    {
      "cell_type": "code",
      "execution_count": 192,
      "metadata": {
        "id": "HqBL92EaTutU"
      },
      "outputs": [
        {
          "data": {
            "text/plain": [
              "['2022', '08']"
            ]
          },
          "execution_count": 192,
          "metadata": {},
          "output_type": "execute_result"
        }
      ],
      "source": [
        "list = ['2022', '08', '20']\n",
        "\n",
        "list[0:2] # seleccionar segun un rango de posiciones"
      ]
    },
    {
      "cell_type": "code",
      "execution_count": 193,
      "metadata": {
        "id": "AfLkvOpPTxpc"
      },
      "outputs": [
        {
          "data": {
            "text/plain": [
              "['08', '20', 'año', 'jueves', 'futbol']"
            ]
          },
          "execution_count": 193,
          "metadata": {},
          "output_type": "execute_result"
        }
      ],
      "source": [
        "list = ['2022', '08', '20','año','jueves','futbol']\n",
        "list[1:] # seleccionar los elementos desde una posicion hasta la ultima (inluyendola)"
      ]
    },
    {
      "cell_type": "code",
      "execution_count": 194,
      "metadata": {},
      "outputs": [
        {
          "data": {
            "text/plain": [
              "['2022', '08', '20']"
            ]
          },
          "execution_count": 194,
          "metadata": {},
          "output_type": "execute_result"
        }
      ],
      "source": [
        "list = ['2022', '08', '20','año','jueves','futbol']\n",
        "list[:3] # seleccionar los elementos desde una posicion hasta la ultima (inluyendola)"
      ]
    },
    {
      "cell_type": "code",
      "execution_count": 195,
      "metadata": {
        "id": "pUU3UuNgT1io"
      },
      "outputs": [
        {
          "data": {
            "text/plain": [
              "True"
            ]
          },
          "execution_count": 195,
          "metadata": {},
          "output_type": "execute_result"
        }
      ],
      "source": [
        "list = ['2022', '08', '20'] \n",
        "\n",
        "'20' in list # verificar condición de si existe un elemento en la lista"
      ]
    },
    {
      "cell_type": "code",
      "execution_count": 196,
      "metadata": {
        "id": "pbWFypvRAlJy"
      },
      "outputs": [
        {
          "data": {
            "text/plain": [
              "False"
            ]
          },
          "execution_count": 196,
          "metadata": {},
          "output_type": "execute_result"
        }
      ],
      "source": [
        "list = ['2022', '08', '20']\n",
        "\n",
        "20 in list # verificar condición de si existe un elemento en la lista"
      ]
    },
    {
      "cell_type": "code",
      "execution_count": 197,
      "metadata": {
        "id": "Qu-SX8U_T8c2"
      },
      "outputs": [
        {
          "name": "stdout",
          "output_type": "stream",
          "text": [
            "3\n",
            "['2022', '08', '20']\n"
          ]
        }
      ],
      "source": [
        "list = ['2022', '08', '20']\n",
        "\n",
        "print(len(list)) # dimensiones de las listas\n",
        "print(list)"
      ]
    },
    {
      "cell_type": "markdown",
      "metadata": {
        "id": "Xo0odg0wAlJy"
      },
      "source": [
        "* diferencia entre .append() y .insert()"
      ]
    },
    {
      "cell_type": "code",
      "execution_count": 198,
      "metadata": {
        "id": "aBu6KSTaAlJy"
      },
      "outputs": [
        {
          "data": {
            "text/plain": [
              "[0, 1, 2, 3, 'nuevo_elemento', 'ultimo_elemento', 'otra_vez_ultimo_elemento']"
            ]
          },
          "execution_count": 198,
          "metadata": {},
          "output_type": "execute_result"
        }
      ],
      "source": [
        "lista = [0,1,2,3] # inicio una lista vacia\n",
        "\n",
        "lista.append('nuevo_elemento') # le agrego un elemento nuevo\n",
        "lista.append('ultimo_elemento') # le agrego otro elemento nuevo\n",
        "lista.append('otra_vez_ultimo_elemento') # le agrego otro elemento nuevo\n",
        "lista"
      ]
    },
    {
      "cell_type": "code",
      "execution_count": 199,
      "metadata": {
        "id": "bl1pM1UYQFjy"
      },
      "outputs": [
        {
          "name": "stdout",
          "output_type": "stream",
          "text": [
            "['Hoy', '2022', '08', '20']\n"
          ]
        }
      ],
      "source": [
        "list = ['2022', '08', '20'] # creo una lista\n",
        "\n",
        "list.insert(0,'Hoy') # metodo insert para agregar un elemento indicando una posicion\n",
        "print(list)"
      ]
    },
    {
      "cell_type": "code",
      "execution_count": 200,
      "metadata": {},
      "outputs": [
        {
          "name": "stdout",
          "output_type": "stream",
          "text": [
            "['2022', 'Hoy', '08', '20']\n"
          ]
        }
      ],
      "source": [
        "list = ['2022', '08', '20'] # creo una lista\n",
        "\n",
        "list.insert(1,'Hoy') # metodo insert para agregar un elemento indicando una posicion\n",
        "print(list)"
      ]
    },
    {
      "cell_type": "code",
      "execution_count": 201,
      "metadata": {
        "id": "Isj2mNTfQImR"
      },
      "outputs": [
        {
          "name": "stdout",
          "output_type": "stream",
          "text": [
            "['2022', '20']\n"
          ]
        }
      ],
      "source": [
        "list = ['2022', '08', '20'] # creo una lista\n",
        "\n",
        "list.remove('08') # elimino elemento de la lista\n",
        "print(list)"
      ]
    },
    {
      "cell_type": "code",
      "execution_count": 202,
      "metadata": {
        "id": "CcdfblLiAlJz"
      },
      "outputs": [
        {
          "data": {
            "text/plain": [
              "0"
            ]
          },
          "execution_count": 202,
          "metadata": {},
          "output_type": "execute_result"
        }
      ],
      "source": [
        "list = ['2022', '08', '20']\n",
        "\n",
        "list.index('2022') # cual es el indice/posicion del elemento buscado en la lista"
      ]
    },
    {
      "cell_type": "code",
      "execution_count": 203,
      "metadata": {
        "id": "bJT5h1cdQjRp"
      },
      "outputs": [
        {
          "name": "stdout",
          "output_type": "stream",
          "text": [
            "2\n"
          ]
        }
      ],
      "source": [
        "list = ['2022', '08', '20']\n",
        "\n",
        "print(list.index('20')) # metodo index para averiguar el indice en el que se posiciona un elemento"
      ]
    },
    {
      "cell_type": "markdown",
      "metadata": {
        "id": "ewsXo0_cIWiF"
      },
      "source": [
        "## Tuplas"
      ]
    },
    {
      "cell_type": "markdown",
      "metadata": {
        "id": "q1VkN8-UJN9g"
      },
      "source": [
        "Las tuplas son secuencias, igual que las cadenas, y se puede utilizar la misma notación de índices que en las cadenas para obtener cada una de sus componentes.\n",
        "\n",
        "* Es posible anidar (y desanidar) tuplas\n",
        "* Las tuplas son inmutables\n"
      ]
    },
    {
      "cell_type": "code",
      "execution_count": 204,
      "metadata": {
        "colab": {
          "base_uri": "https://localhost:8080/"
        },
        "id": "slqeTjFLAlJ0",
        "outputId": "c3d49dc1-1dde-4946-fc66-48399862b0a2"
      },
      "outputs": [
        {
          "name": "stdout",
          "output_type": "stream",
          "text": [
            "(1, 2, 3)\n",
            "(1, 2, 3)\n"
          ]
        }
      ],
      "source": [
        "# 1ra forma de definir tupla\n",
        "tupla = (1,2,3)\n",
        "print(tupla)\n",
        "# 2da forma de definir tupla\n",
        "tupla_2 = 1,2,3\n",
        "print(tupla_2)"
      ]
    },
    {
      "cell_type": "code",
      "execution_count": 205,
      "metadata": {},
      "outputs": [
        {
          "name": "stdout",
          "output_type": "stream",
          "text": [
            "<class 'tuple'>\n",
            "(20, 'Agosto', 2022)\n"
          ]
        }
      ],
      "source": [
        "tup = (20, \"Agosto\", 2022) # crear tuplas\n",
        "\n",
        "# consultar o preguntar\n",
        "print(type(tup)) # que tipo de de variable\n",
        "print(tup)"
      ]
    },
    {
      "cell_type": "code",
      "execution_count": 206,
      "metadata": {
        "colab": {
          "base_uri": "https://localhost:8080/"
        },
        "id": "NATvL-SCIYe5",
        "outputId": "44a2b563-c663-4841-870f-5d3441531fe4"
      },
      "outputs": [
        {
          "name": "stdout",
          "output_type": "stream",
          "text": [
            "<class 'tuple'>\n",
            "(20, 'Agosto', 2022)\n"
          ]
        }
      ],
      "source": [
        "tup = 20, \"Agosto\", 2022 # crear tuplas\n",
        "\n",
        "# consultar o preguntar\n",
        "print(type(tup)) # que tipo de de variable\n",
        "print(tup)"
      ]
    },
    {
      "cell_type": "markdown",
      "metadata": {
        "id": "3ciZn424AlJ0"
      },
      "source": [
        "* anidar tuplas"
      ]
    },
    {
      "cell_type": "code",
      "execution_count": 207,
      "metadata": {
        "colab": {
          "base_uri": "https://localhost:8080/"
        },
        "id": "Hc7WJeVdK92g",
        "outputId": "78b3dbc8-9bfa-4d55-c3b1-3e04e02f470c"
      },
      "outputs": [
        {
          "name": "stdout",
          "output_type": "stream",
          "text": [
            "('hoy', (20, 'Agosto', 2022))\n"
          ]
        }
      ],
      "source": [
        "tup_a = (20, \"Agosto\", 2022) # construir una tupla\n",
        "tup_b = ('hoy', tup_a) # anidar tuplas : construir una nueva  tupla\n",
        "\n",
        "print(tup_b) # mostrar en pantalla"
      ]
    },
    {
      "cell_type": "markdown",
      "metadata": {
        "id": "WkuK0k0JMIAt"
      },
      "source": [
        "**Empaquetado y desempaquetado**"
      ]
    },
    {
      "cell_type": "code",
      "execution_count": 208,
      "metadata": {
        "colab": {
          "base_uri": "https://localhost:8080/"
        },
        "id": "PjMV84CCL7rA",
        "outputId": "be5d7acb-86ac-402b-e823-ab56f502f1f7"
      },
      "outputs": [
        {
          "name": "stdout",
          "output_type": "stream",
          "text": [
            "<class 'tuple'>\n",
            "(20, 'Agosto', 2022)\n"
          ]
        }
      ],
      "source": [
        "tup = 20, \"Agosto\", 2022 # crear una tupla empaquetando elementos\n",
        "print(type(tup))\n",
        "print(tup)"
      ]
    },
    {
      "cell_type": "code",
      "execution_count": 209,
      "metadata": {},
      "outputs": [
        {
          "name": "stdout",
          "output_type": "stream",
          "text": [
            "<class 'int'>\n",
            "20\n",
            "<class 'str'>\n",
            "Agosto\n",
            "<class 'int'>\n",
            "2022\n"
          ]
        }
      ],
      "source": [
        "# crear una tupla empaquetando\n",
        "tup = 20, \"Agosto\", 2022 \n",
        "\n",
        "# desempacar una tupla\n",
        "# importante : debe alistar exactamente la misma cantidad de variables que elementos de la tupla\n",
        "dia, mes, anio = tup \n",
        "\n",
        "# verificar en pantalla resultado y proceso\n",
        "print(type(dia))\n",
        "print(dia)\n",
        "print(type(mes))\n",
        "print(mes)\n",
        "print(type(anio))\n",
        "print(anio)"
      ]
    },
    {
      "cell_type": "markdown",
      "metadata": {},
      "source": [
        "* ejemplo"
      ]
    },
    {
      "cell_type": "code",
      "execution_count": 210,
      "metadata": {},
      "outputs": [
        {
          "name": "stdout",
          "output_type": "stream",
          "text": [
            "('lunes', 'martes', 'miercoles')\n",
            "('lunes', 'martes', 'miercoles', 'jueves', 'viernes')\n"
          ]
        }
      ],
      "source": [
        "# pack empacar\n",
        "# definir dos tuplas\n",
        "tupla_a = ('lunes','martes','miercoles') # tupla incial\n",
        "print(tupla_a)\n",
        "\n",
        "tupla_b = ('lunes','martes','miercoles','jueves','viernes') # tupla referencia\n",
        "print(tupla_b)"
      ]
    },
    {
      "cell_type": "code",
      "execution_count": 211,
      "metadata": {},
      "outputs": [
        {
          "name": "stdout",
          "output_type": "stream",
          "text": [
            "(('lunes', 'martes', 'miercoles'), 'jueves', 'viernes')\n"
          ]
        }
      ],
      "source": [
        "# definir tupla a partir de una existente y nuevos elementos\n",
        "tupla_c = tupla_a, 'jueves','viernes'\n",
        "print(tupla_c)"
      ]
    },
    {
      "cell_type": "code",
      "execution_count": 212,
      "metadata": {
        "colab": {
          "base_uri": "https://localhost:8080/"
        },
        "id": "Ohctk6phAlJ0",
        "outputId": "d1afa4cd-2ab4-4741-ffd2-7231933b7b02"
      },
      "outputs": [
        {
          "name": "stdout",
          "output_type": "stream",
          "text": [
            "('lunes', 'martes', 'miercoles', 'jueves', 'viernes')\n"
          ]
        }
      ],
      "source": [
        "\n",
        "# unpack desempacar\n",
        "# al desempacar las tup´las se debe reservar la misma cantidad de variables adentro de la tupla\n",
        "ele_1_tup_a, ele_2_tup_a, ele_3_tup_a = tupla_a\n",
        "\n",
        "# empacar usando los elementos desempacados\n",
        "tupla_d = ele_1_tup_a,ele_2_tup_a,ele_3_tup_a, 'jueves','viernes'\n",
        "print(tupla_d)"
      ]
    },
    {
      "cell_type": "markdown",
      "metadata": {
        "id": "PKVwthpaIY-u"
      },
      "source": [
        "## Diccionarios"
      ]
    },
    {
      "cell_type": "markdown",
      "metadata": {
        "id": "1zvU2P8cNngy"
      },
      "source": [
        "Un diccionario es una colección no-ordenada de valores que son accedidos a traves de una clave\n",
        "* El algoritmo que usa Python internamente para buscar un elemento en un diccionario es muy distinto que el que utiliza para buscar en listas. Para buscar en diccionarios se utiliza un algoritmo llamado hash, que se basa en realizar un cálculo numérico sobre la clave del elemento, y tiene una propiedad muy interesante: sin importar cuántos elementos tenga el diccionario, el tiempo de búsqueda es siempre aproximadamente igual."
      ]
    },
    {
      "cell_type": "code",
      "execution_count": 213,
      "metadata": {
        "colab": {
          "base_uri": "https://localhost:8080/"
        },
        "id": "nqwWIHXkIagn",
        "outputId": "ceb37ce5-68c8-4b8c-c2f0-3582b10c5028"
      },
      "outputs": [
        {
          "name": "stdout",
          "output_type": "stream",
          "text": [
            "<class 'dict'>\n",
            "{}\n"
          ]
        }
      ],
      "source": [
        "dicti = {} # iniciar un diccionario sin informacion\n",
        "print(type(dicti))\n",
        "print(dicti)"
      ]
    },
    {
      "cell_type": "code",
      "execution_count": 214,
      "metadata": {
        "colab": {
          "base_uri": "https://localhost:8080/"
        },
        "id": "Amd96mMzOB7o",
        "outputId": "189ae3c8-f6f0-4381-9721-979e9aa307b9"
      },
      "outputs": [
        {
          "name": "stdout",
          "output_type": "stream",
          "text": [
            "<class 'dict'>\n",
            "{'Jairo': [29, 'ingenieria'], 'Carlos': [29, 'Matematicas', 'estadistica', 'fisica'], 'Juliana': [25, 'derecho', 'penal'], 'andres': 'se murió'}\n"
          ]
        }
      ],
      "source": [
        "dicti = {} # creo un diccionario vacio\n",
        "\n",
        "dicti[\"Jairo\"] = [29, 'ingenieria'] # asignar informacion a llaves del diccionario\n",
        "dicti[\"Carlos\"] = [29, 'Matematicas','estadistica','fisica'] # asignar informacion a llaves del diccionario\n",
        "dicti[\"Juliana\"] = [25, 'derecho','penal'] # asignar informacion a llaves del diccionario\n",
        "dicti['andres'] = 'se murió'\n",
        "\n",
        "print(type(dicti)) # que tipo de dato quedó siendo\n",
        "print(dicti) # muestre la informacion que tiene el diccionario por dentro"
      ]
    },
    {
      "cell_type": "code",
      "execution_count": 215,
      "metadata": {
        "colab": {
          "base_uri": "https://localhost:8080/"
        },
        "id": "jgAi0kDajOOP",
        "outputId": "cfd6114c-f301-4a1a-b191-18ec72d1f2a7"
      },
      "outputs": [
        {
          "name": "stdout",
          "output_type": "stream",
          "text": [
            "<class 'dict'>\n",
            "{'Jairo': [29, 'ingenieria'], 'Carlos': [29, 'Matematicas', 'estadistica', 'fisica'], 'Juliana': [25, 'derecho', 'penal'], 'andres': 'se murió'}\n"
          ]
        }
      ],
      "source": [
        "dicti = {\n",
        "    'Jairo': [29, 'ingenieria'],\n",
        "    'Carlos': [29, 'Matematicas', 'estadistica', 'fisica'],\n",
        "    'Juliana': [25, 'derecho', 'penal'],\n",
        "    'andres': 'se murió'\n",
        "    }\n",
        "\n",
        "print(type(dicti)) # que tipo de dato quedó siendo\n",
        "print(dicti) # muestre la informacion que tiene el diccionario por dentro"
      ]
    },
    {
      "cell_type": "code",
      "execution_count": 216,
      "metadata": {
        "colab": {
          "base_uri": "https://localhost:8080/"
        },
        "id": "Rh8z2arzOoVb",
        "outputId": "06e8e87d-82e8-48e2-b02c-26b75ab4c04d"
      },
      "outputs": [
        {
          "name": "stdout",
          "output_type": "stream",
          "text": [
            "<class 'list'>\n",
            "[29, 'ingenieria']\n"
          ]
        }
      ],
      "source": [
        "dicti = {} # creo diccionario vacio\n",
        "dicti[\"Jairo\"] = [29, 'ingenieria'] #creo una llave con una informacion\n",
        "\n",
        "print(type(dicti[\"Jairo\"] )) # muestre enn pantalla el tipo de dato de la llave jairo\n",
        "print(dicti[\"Jairo\"]) # muestre la informacion que tiene adentro de la llave jairo"
      ]
    },
    {
      "cell_type": "code",
      "execution_count": 217,
      "metadata": {
        "colab": {
          "base_uri": "https://localhost:8080/"
        },
        "id": "aoIoHo7GAlJ1",
        "outputId": "8174c0b0-514d-46c1-9b57-27eedf430417"
      },
      "outputs": [
        {
          "name": "stdout",
          "output_type": "stream",
          "text": [
            "<class 'list'>\n",
            "[29, 'ingenieria']\n"
          ]
        }
      ],
      "source": [
        "dicti = {} # creo diccionario vacio\n",
        "dicti[\"Jairo\"] = [29, 'ingenieria'] #creo una llave con una informacion\n",
        "\n",
        "print(type(dicti.get(\"Jairo\") ))  # metodo get para traer la informacion que tiene en una llave\n",
        "print(dicti.get(\"Jairo\")) #"
      ]
    },
    {
      "cell_type": "code",
      "execution_count": 218,
      "metadata": {},
      "outputs": [
        {
          "data": {
            "text/plain": [
              "{'usuario': 'pepito',\n",
              " 'contrasenia': '123456',\n",
              " 'permisos': ['lectura', 'escritura', 'superadmin']}"
            ]
          },
          "execution_count": 218,
          "metadata": {},
          "output_type": "execute_result"
        }
      ],
      "source": [
        "# ejemplo guardado de credenciales\n",
        "\n",
        "informacion_conexion = {\n",
        "    'usuario' : 'pepito',\n",
        "    'contrasenia' : '123456',\n",
        "    'permisos' : ['lectura','escritura','superadmin']\n",
        "\n",
        "}\n",
        "\n",
        "informacion_conexion"
      ]
    },
    {
      "cell_type": "markdown",
      "metadata": {
        "id": "waEjd4d6PN4J"
      },
      "source": [
        "**recorrido**"
      ]
    },
    {
      "cell_type": "code",
      "execution_count": 219,
      "metadata": {
        "colab": {
          "base_uri": "https://localhost:8080/"
        },
        "id": "7xPuurI8AlJ1",
        "outputId": "9007ffb4-8f21-4095-92f1-745f015ccdb6"
      },
      "outputs": [
        {
          "name": "stdout",
          "output_type": "stream",
          "text": [
            "0\n",
            "1\n",
            "2\n",
            "3\n",
            "4\n",
            "5\n",
            "6\n",
            "7\n",
            "8\n",
            "9\n"
          ]
        }
      ],
      "source": [
        "# para cada i en el rango 1,2,...,9 muestre en pantalla el contenido de i\n",
        "for i in range(10):\n",
        "    print(i)"
      ]
    },
    {
      "cell_type": "code",
      "execution_count": 220,
      "metadata": {
        "colab": {
          "base_uri": "https://localhost:8080/"
        },
        "id": "tZkxwyGPPEKT",
        "outputId": "7f2b9575-451a-4a2b-8ee4-794b076df433"
      },
      "outputs": [
        {
          "name": "stdout",
          "output_type": "stream",
          "text": [
            "Jairo : [29, 'ingenieria']\n",
            "Carlos : [29, 'Matematicas', 'estadistica', 'fisica']\n",
            "Juliana : [25, 'derecho', 'penal']\n"
          ]
        }
      ],
      "source": [
        "dicti = {} # creo un diccionario\n",
        "dicti[\"Jairo\"] = [29, 'ingenieria'] # lleno de informacion el diccionario segun llaves\n",
        "dicti[\"Carlos\"] = [29, 'Matematicas','estadistica','fisica'] # lleno de informacion el diccionario segun llaves\n",
        "dicti[\"Juliana\"] = [25, 'derecho','penal'] # lleno de informacion el diccionario segun llaves\n",
        "\n",
        "for nombre, info in dicti.items(): # for (estructura de control) usando items\n",
        "   print(nombre, \":\", info) # muestre en pantalla la concatenacion de el nbombre : informacion"
      ]
    },
    {
      "cell_type": "code",
      "execution_count": 221,
      "metadata": {
        "colab": {
          "base_uri": "https://localhost:8080/",
          "height": 228
        },
        "id": "URdJ-ZikDbBu",
        "outputId": "a03da3b3-d236-4e28-a825-a5506e4f4306"
      },
      "outputs": [
        {
          "ename": "ValueError",
          "evalue": "not enough values to unpack (expected 3, got 2)",
          "output_type": "error",
          "traceback": [
            "\u001b[1;31m---------------------------------------------------------------------------\u001b[0m",
            "\u001b[1;31mValueError\u001b[0m                                Traceback (most recent call last)",
            "Cell \u001b[1;32mIn[221], line 10\u001b[0m\n\u001b[0;32m      7\u001b[0m dicti[\u001b[38;5;124m\"\u001b[39m\u001b[38;5;124mCarla Giraldo\u001b[39m\u001b[38;5;124m\"\u001b[39m] \u001b[38;5;241m=\u001b[39m \u001b[38;5;241m25\u001b[39m\n\u001b[0;32m      9\u001b[0m \u001b[38;5;66;03m# recorrer el diccionario con el metodo items desempacando el nombre y la informacion\u001b[39;00m\n\u001b[1;32m---> 10\u001b[0m \u001b[38;5;28;01mfor\u001b[39;00m nombre, info, por \u001b[38;5;129;01min\u001b[39;00m dicti\u001b[38;5;241m.\u001b[39mitems():\n\u001b[0;32m     11\u001b[0m    \u001b[38;5;28mprint\u001b[39m(nombre, \u001b[38;5;124m\"\u001b[39m\u001b[38;5;124m:\u001b[39m\u001b[38;5;124m\"\u001b[39m, info, por)\n",
            "\u001b[1;31mValueError\u001b[0m: not enough values to unpack (expected 3, got 2)"
          ]
        }
      ],
      "source": [
        "dicti = {}\n",
        "dicti[\"Jairo\"] = [29, 'ingenieria']\n",
        "dicti[\"Carlos\"] = [29, 'Matematicas','estadistica','fisica']\n",
        "dicti[\"Juliana\"] = [25, 'derecho','penal']\n",
        "dicti[\"Carla\"] = 25\n",
        "dicti[\"CarlaG\"] = 25\n",
        "dicti[\"Carla Giraldo\"] = 25\n",
        "\n",
        "# recorrer el diccionario con el metodo items desempacando el nombre y la informacion\n",
        "for nombre, info, por in dicti.items():\n",
        "   print(nombre, \":\", info, por)"
      ]
    },
    {
      "cell_type": "markdown",
      "metadata": {
        "id": "dxyWQi8EUSyl"
      },
      "source": [
        "## Condicionales"
      ]
    },
    {
      "cell_type": "markdown",
      "metadata": {
        "id": "ezg0_yztAlJ2"
      },
      "source": [
        "Comparar\n",
        "\n",
        "* menor <\n",
        "* mayor >\n",
        "* igual == (no usar = debido a que es el simbolo de asignacion)"
      ]
    },
    {
      "cell_type": "code",
      "execution_count": null,
      "metadata": {},
      "outputs": [
        {
          "data": {
            "text/plain": [
              "False"
            ]
          },
          "execution_count": 93,
          "metadata": {},
          "output_type": "execute_result"
        }
      ],
      "source": [
        "# asignando...\n",
        "var = 15\n",
        "\n",
        "# comparando\n",
        "var == 20220820"
      ]
    },
    {
      "cell_type": "code",
      "execution_count": null,
      "metadata": {
        "id": "rD5-VSPHAlJ2"
      },
      "outputs": [
        {
          "data": {
            "text/plain": [
              "True"
            ]
          },
          "execution_count": 94,
          "metadata": {},
          "output_type": "execute_result"
        }
      ],
      "source": [
        "# asignando...\n",
        "var = 15\n",
        "\n",
        "# comparando\n",
        "var < 20220820"
      ]
    },
    {
      "cell_type": "code",
      "execution_count": null,
      "metadata": {
        "id": "WaRTtgK_AlJ2"
      },
      "outputs": [
        {
          "name": "stdout",
          "output_type": "stream",
          "text": [
            "no es menor\n"
          ]
        }
      ],
      "source": [
        "# si cumple una condicion realice una accion....\n",
        "\n",
        "var = 9e99 # uso = para asignar \n",
        "\n",
        "# usando un IF(si se cumple...) ELIF (otra condición) ELSE (todo caso contrario)\n",
        "if var < 20220820: \n",
        "  print(\"es menor\")\n",
        "else :\n",
        "  print('no es menor')"
      ]
    },
    {
      "cell_type": "code",
      "execution_count": null,
      "metadata": {
        "id": "9tfyjSAAAlJ2"
      },
      "outputs": [
        {
          "name": "stdout",
          "output_type": "stream",
          "text": [
            "feliz\n"
          ]
        }
      ],
      "source": [
        "# CONDICION DE ARRANQUE\n",
        "# la hija  de camilo es hincha de un equipo\n",
        "camilo = 'No sabe'\n",
        "hija = 'Santafe'\n",
        "\n",
        "# el papá va a reaccionar según...\n",
        "if (hija == 'Santafe'):\n",
        "    camilo = 'feliz' # accion a realizar (asignacion de informacion)\n",
        "\n",
        "# mostrar en pantalla contenido de variable camilo\n",
        "print(camilo)"
      ]
    },
    {
      "cell_type": "code",
      "execution_count": null,
      "metadata": {
        "id": "3_9K_4k5AlJ3"
      },
      "outputs": [
        {
          "name": "stdout",
          "output_type": "stream",
          "text": [
            "preocupado\n"
          ]
        }
      ],
      "source": [
        "# CONDICION DE ARRANQUE\n",
        "# la hija  de camilo es hincha de un equipo\n",
        "camilo = 'No sabe'\n",
        "hija = 'Millos'\n",
        "\n",
        "\n",
        "# el papá va a reaccionar según...\n",
        "if (hija == 'Santafe'): # condicion\n",
        "    camilo = 'feliz' # acciones\n",
        "else:\n",
        "    camilo = 'preocupado' # acciones\n",
        "\n",
        "\n",
        "# mostrar en pantalla contenido de variable camilo\n",
        "print(camilo)"
      ]
    },
    {
      "cell_type": "code",
      "execution_count": null,
      "metadata": {
        "id": "D9ldTOZWAlJ3"
      },
      "outputs": [
        {
          "name": "stdout",
          "output_type": "stream",
          "text": [
            "Furioso\n"
          ]
        }
      ],
      "source": [
        "# CONDICION DE ARRANQUE\n",
        "# la hija  de camilo es hincha de un equipo\n",
        "camilo = 'No sabe'\n",
        "hija = 'Millonarios'\n",
        "\n",
        "\n",
        "# el papá va a reaccionar según... # usando un IF(si se cumple...) ELIF (otra condición) ELSE (todo caso contrario)\n",
        "if (hija == 'Santafe'): # 1ra condicion\n",
        "    camilo = 'feliz' # acciones\n",
        "elif (hija == 'Millonarios'):\n",
        "    camilo = 'Furioso' #2da condicion\n",
        "elif (hija == 'Junior'):\n",
        "    camilo = 'La niña es del ICBF' #3da condicion\n",
        "elif (hija == 'Millonarios'):\n",
        "    camilo = 'bravo' #4ta condicion\n",
        "else: # todo lo contrario (todos los demas casos)\n",
        "    camilo = 'preocupado' # acciones\n",
        "\n",
        "# case when (casos)\n",
        "\n",
        "# mostrar en pantalla contenido de variable camilo\n",
        "print(camilo)"
      ]
    },
    {
      "cell_type": "code",
      "execution_count": null,
      "metadata": {
        "id": "TCtqklgCAlJ3"
      },
      "outputs": [],
      "source": [
        "# si cumple una condicion realice una accion....\n",
        "\n",
        "var = 15 # uso = para asignar\n",
        "\n",
        "if (var == 20220820): # usando un IF ELIF ELSE\n",
        "  print(\"es igual\")"
      ]
    },
    {
      "cell_type": "code",
      "execution_count": null,
      "metadata": {
        "id": "O3Hbj6acAlJ3"
      },
      "outputs": [
        {
          "name": "stdout",
          "output_type": "stream",
          "text": [
            "es mayor\n"
          ]
        }
      ],
      "source": [
        "# si cumple una condicion realice una accion....\n",
        "\n",
        "var = 99999999 # uso = para asignar\n",
        "\n",
        "if (var > 20220820): # usando un IF ELIF ELSE\n",
        "  print(\"es mayor\")"
      ]
    },
    {
      "cell_type": "code",
      "execution_count": null,
      "metadata": {
        "id": "j5zgBmg7UChI"
      },
      "outputs": [
        {
          "name": "stdout",
          "output_type": "stream",
          "text": [
            "es exacto\n"
          ]
        }
      ],
      "source": [
        "var = 20220820 # uso = para asignar # si cumple una condicion realice una accion....\n",
        "\n",
        "if var < 20220820: # usando un IF ELIF ELSE\n",
        "  print(\"es menor\")\n",
        "elif var == 20220820: # uso == para comparar # elif en caso de que no se cumpla evalua otra condicion realice una  accion\n",
        "  print(\"es exacto\")\n",
        "else: # my_variable > 20220820 # en todo caso contrario realice una  accion\n",
        "  print(\"es mayor\")"
      ]
    },
    {
      "cell_type": "markdown",
      "metadata": {},
      "source": [
        "* ejemplo de programa con evaluación de condiciones\n",
        "\n",
        "escenario A : (6 o antes, jaime estaría llegando a tiempo) \n",
        "\n",
        "escenario B : (despues de y antes de 9, jaime estaría llegando tarde)\n",
        "\n",
        "escenario C : (despues de las 9, jaime no habría llegado) \n",
        "\n",
        "(escenario A) 6 / ...(escenario B)  / 9 (escenario C) "
      ]
    },
    {
      "cell_type": "code",
      "execution_count": null,
      "metadata": {
        "id": "aYoZhTTkAlJ3"
      },
      "outputs": [
        {
          "name": "stdout",
          "output_type": "stream",
          "text": [
            "La hora de llegada de jaime fue a las 7.5\n",
            "Llegó tarde a clase\n"
          ]
        }
      ],
      "source": [
        "# ejemplo\n",
        "# hora de llegada a clase a las 6\n",
        "# hora de finalizacion de la clase a las 9\n",
        "# la hora de llegada de jaime fue las 7:30\n",
        "\n",
        "jaime_horallegada = 7.5 # la hora de llegada de jaime fue las 7:30\n",
        "print('La hora de llegada de jaime fue a las',jaime_horallegada)\n",
        "\n",
        "# usando un IF(si se cumple...) ELIF (otra condición) ELSE (todo caso contrario)\n",
        "if (jaime_horallegada<=6):\n",
        "    print('Llegó a tiempo a clase')\n",
        "elif (jaime_horallegada<=9):\n",
        "    print('Llegó tarde a clase')\n",
        "else:\n",
        "    print('No llegó a clase')"
      ]
    },
    {
      "cell_type": "markdown",
      "metadata": {
        "id": "vC7X16TJVv_G"
      },
      "source": [
        "## Loops"
      ]
    },
    {
      "cell_type": "markdown",
      "metadata": {},
      "source": [
        "* while"
      ]
    },
    {
      "cell_type": "code",
      "execution_count": null,
      "metadata": {
        "id": "v1JoIc8uVf1B"
      },
      "outputs": [
        {
          "name": "stdout",
          "output_type": "stream",
          "text": [
            "2022\n",
            "08\n",
            "20\n"
          ]
        }
      ],
      "source": [
        "list = ['2022', '08', '20'] # creo una lista sobre la que quiero recorrer\n",
        "i = 0 # variable de control o de escape que inicia en cero # se desa que converja en algun momento\n",
        "\n",
        "while i < len(list): # mientras se cumpla una condicion\n",
        "  print(list[i]) # muestre en pantalla el elemento i de la lista\n",
        "  i += 1 # es lo mismo que escribir i = i + 1 # una instruccion para obligar a converger"
      ]
    },
    {
      "cell_type": "markdown",
      "metadata": {},
      "source": [
        "* for"
      ]
    },
    {
      "cell_type": "code",
      "execution_count": null,
      "metadata": {
        "id": "kHWQ6soIVzY9"
      },
      "outputs": [
        {
          "name": "stdout",
          "output_type": "stream",
          "text": [
            "2022\n",
            "08\n",
            "20\n"
          ]
        }
      ],
      "source": [
        "list = ['2022', '08', '20']\n",
        "\n",
        "for i in range(len(list)): # para cada i en el rango de 0 al tamaño de la lista\n",
        "  print(list[i]) # usando la posicion del elemento la lista"
      ]
    },
    {
      "cell_type": "code",
      "execution_count": null,
      "metadata": {
        "id": "6ZOo98IPV65T"
      },
      "outputs": [
        {
          "name": "stdout",
          "output_type": "stream",
          "text": [
            "2022\n",
            "08\n",
            "20\n"
          ]
        }
      ],
      "source": [
        "list = ['2022', '08', '20']\n",
        "\n",
        "for numero in list: # for usando la información del elemento la lista\n",
        "  print(numero)"
      ]
    },
    {
      "cell_type": "code",
      "execution_count": null,
      "metadata": {
        "id": "H3e1zoUGKSuo"
      },
      "outputs": [
        {
          "name": "stdout",
          "output_type": "stream",
          "text": [
            "2022\n",
            "08\n"
          ]
        }
      ],
      "source": [
        "list = ['2022', '08', '20']\n",
        "\n",
        "\n",
        "for i in range(len(list)):\n",
        "  print(list[i])\n",
        "  \n",
        "  if i == 1: # condicion de break\n",
        "    break # romper el loop"
      ]
    },
    {
      "cell_type": "code",
      "execution_count": null,
      "metadata": {
        "id": "QyURwKVxAlJ4"
      },
      "outputs": [
        {
          "name": "stdout",
          "output_type": "stream",
          "text": [
            "han sido invitados  15 amigos a la fiesta\n",
            "repartir sorpresa a : Hugo\n",
            "repartir sorpresa a : Ivan\n",
            "repartir sorpresa a : Juan\n",
            "repartir sorpresa a : Lara\n",
            "repartir sorpresa a : Ana\n",
            "repartir sorpresa a : Enzo\n",
            "repartir sorpresa a : Leo\n",
            "repartir sorpresa a : Luz\n",
            "repartir sorpresa a : Mar\n"
          ]
        }
      ],
      "source": [
        "# fiesta con unos invitados\n",
        "list = ['Hugo','Ivan','Juan','Lara','Ana','Enzo','Leo','Luz','Mar','Nora','Angela','Eric','Eva','Raul','Sara']\n",
        "print('han sido invitados ',len(list), 'amigos a la fiesta')\n",
        "\n",
        "# solo tengo unas sorpresas para entregar\n",
        "sorpresas = 9\n",
        "\n",
        "# programa de reparticion de sorpresas\n",
        "for i in range(len(list)):\n",
        "  print('repartir sorpresa a :',list[i])\n",
        "  if i == (sorpresas-1): # condicion de break\n",
        "    break"
      ]
    },
    {
      "cell_type": "markdown",
      "metadata": {
        "id": "Zqdxm86VWRFP"
      },
      "source": [
        "## Funciones"
      ]
    },
    {
      "cell_type": "markdown",
      "metadata": {
        "id": "ISgUansdRn2b"
      },
      "source": [
        "Definición de nuevas instrucciones que reciben parametros llamados argumentos.\n",
        "\n",
        "* La documentación de una función se coloca luego del encabezado de la función, en un párrafo encerrado entre tres comillas dobles \"\"\"\n"
      ]
    },
    {
      "cell_type": "markdown",
      "metadata": {
        "id": "9XOpOeygAlJ5"
      },
      "source": [
        "* una función puede recibir un argumento de entrada o varios, sin embargo, tambien tambien puede no recibir ninguno"
      ]
    },
    {
      "cell_type": "code",
      "execution_count": null,
      "metadata": {
        "id": "OGuUuU--AlJ5"
      },
      "outputs": [],
      "source": [
        "def llegada_tarde(hora):\n",
        "  \"\"\"\n",
        "  se crea funcion para identificar si el alumno llega tarde a clase\n",
        "  variable hora debe ser numerica y corresponde a la hora de llegada del alumno\n",
        "  \"\"\"\n",
        "  \n",
        "  if hora <= 6:\n",
        "      revision = 'El almuno llegó a tiempo'\n",
        "  elif hora <= 9:\n",
        "      revision = 'El almuno llegó a clase tarde'\n",
        "  else:\n",
        "      revision = 'El alumno no llegó a clase'\n",
        "  # regresa o entrega la funcion\n",
        "  return revision"
      ]
    },
    {
      "cell_type": "code",
      "execution_count": null,
      "metadata": {
        "id": "s3mF5EYvAlJ5"
      },
      "outputs": [
        {
          "name": "stdout",
          "output_type": "stream",
          "text": [
            "El almuno llegó a tiempo\n",
            "El almuno llegó a clase tarde\n",
            "El alumno no llegó a clase\n",
            "El almuno llegó a tiempo\n"
          ]
        }
      ],
      "source": [
        "# evaluar si el alumno llego a la clase de 6 a 9\n",
        "print(llegada_tarde(6))\n",
        "print(llegada_tarde(8))\n",
        "print(llegada_tarde(10))\n",
        "print(llegada_tarde(2))"
      ]
    },
    {
      "cell_type": "code",
      "execution_count": null,
      "metadata": {
        "id": "5TaqQB2gAlJ5"
      },
      "outputs": [],
      "source": [
        "def llegada_tarde_recargada(hora_alumno,hora_entrada, hora_salida):\n",
        "    \"\"\"\n",
        "    se crea funcion para identificar si el alumno llega tarde a clase\n",
        "    variable hora alumno debe ser numerica y corresponde a la hora de llegada del alumno\n",
        "    variable hora entrada a clase debe ser numerica\n",
        "    variable hora salida a clase debe ser numerica\n",
        "    \"\"\"\n",
        "    \n",
        "    if hora_alumno <= hora_entrada:\n",
        "        revision = 'El almuno llegó a tiempo'\n",
        "    elif hora_alumno <= hora_salida:\n",
        "        revision = 'El almuno llegó a clase tarde'\n",
        "    else:\n",
        "        revision = 'El alumno no llegó a clase'\n",
        "    return revision"
      ]
    },
    {
      "cell_type": "code",
      "execution_count": null,
      "metadata": {
        "id": "CFB9yg7OAlJ6"
      },
      "outputs": [
        {
          "name": "stdout",
          "output_type": "stream",
          "text": [
            "El almuno llegó a clase tarde\n",
            "El almuno llegó a clase tarde\n",
            "El almuno llegó a tiempo\n",
            "El alumno no llegó a clase\n",
            "El almuno llegó a tiempo\n",
            "El almuno llegó a clase tarde\n"
          ]
        }
      ],
      "source": [
        "# evaluar si el alumno llego a la clase en las horas debidas\n",
        "print(llegada_tarde_recargada(hora_alumno = 9,hora_entrada = 6, hora_salida = 9))\n",
        "print(llegada_tarde_recargada(9,8,12))\n",
        "print(llegada_tarde_recargada(9,12,15))\n",
        "print(llegada_tarde_recargada(17,12,15))\n",
        "print(llegada_tarde_recargada(9,20,22))\n",
        "print(llegada_tarde_recargada(21,20,22))"
      ]
    },
    {
      "cell_type": "code",
      "execution_count": null,
      "metadata": {
        "id": "nTJGI89kRldR"
      },
      "outputs": [],
      "source": [
        "def mifunciondelosviernes(tematica):\n",
        "  \"\"\"\n",
        "  esta funcion entrega una oracion informando la funcion de los viernes y su tematica\n",
        "  la variable tematica es una cadena de caracteres\n",
        "  \"\"\"\n",
        "  \n",
        "  resultado = 'La función de este viernes es '+ tematica\n",
        "  return resultado"
      ]
    },
    {
      "cell_type": "code",
      "execution_count": null,
      "metadata": {
        "id": "1cMvBgaKSi6w"
      },
      "outputs": [
        {
          "name": "stdout",
          "output_type": "stream",
          "text": [
            "La función de este viernes es Merengue\n",
            "La función de este viernes es Rock\n",
            "La función de este viernes es salsa\n"
          ]
        }
      ],
      "source": [
        "print(mifunciondelosviernes('Merengue'))\n",
        "print(mifunciondelosviernes('Rock'))\n",
        "print(mifunciondelosviernes('salsa'))"
      ]
    },
    {
      "cell_type": "code",
      "execution_count": null,
      "metadata": {
        "id": "JL2l5TBXWGAI"
      },
      "outputs": [],
      "source": [
        "def func_exp(x):\n",
        "  \"\"\" x debe ser un numero y va a devolver el mismo numero al cuadrado \"\"\"\n",
        "  y = x ** 2\n",
        "  return y"
      ]
    },
    {
      "cell_type": "code",
      "execution_count": null,
      "metadata": {
        "id": "XuJF4egh6RKe"
      },
      "outputs": [
        {
          "data": {
            "text/plain": [
              "10000"
            ]
          },
          "execution_count": 116,
          "metadata": {},
          "output_type": "execute_result"
        }
      ],
      "source": [
        "func_exp(100)"
      ]
    },
    {
      "cell_type": "code",
      "execution_count": null,
      "metadata": {
        "id": "WBikvqhF4cNP"
      },
      "outputs": [],
      "source": [
        "def func_exp(x, exp):\n",
        "  \"\"\" x debe ser un numero y exp debe ser un numero y va a devolver el mismo numero elevado a exp\"\"\"\n",
        "  y = x ** exp\n",
        "  return y"
      ]
    },
    {
      "cell_type": "code",
      "execution_count": null,
      "metadata": {
        "id": "EATiXTwy6Zjz"
      },
      "outputs": [
        {
          "data": {
            "text/plain": [
              "1000"
            ]
          },
          "execution_count": 119,
          "metadata": {},
          "output_type": "execute_result"
        }
      ],
      "source": [
        "func_exp(x = 10,exp = 3) # 110x10x10"
      ]
    },
    {
      "cell_type": "code",
      "execution_count": null,
      "metadata": {
        "id": "t0Ta1BSg4bsy"
      },
      "outputs": [],
      "source": [
        "# funciones anidades o funciones dentro de funciones\n",
        "def func_exp_texto(x, exp):\n",
        "  \"\"\" Aquí debe documentar la función. \"\"\"\n",
        "  y = func_exp(x, exp) # calculeme el resultado\n",
        "  txt = \"{0} elevado a la {1} es igual a {2}.\".format(x, exp, y) # use las parametros de entrada y el resultado en una cadena de texto\n",
        "  return txt"
      ]
    },
    {
      "cell_type": "code",
      "execution_count": null,
      "metadata": {
        "id": "kEXecjloTRtV"
      },
      "outputs": [
        {
          "data": {
            "text/plain": [
              "'4 elevado a la 4 es igual a 256.'"
            ]
          },
          "execution_count": 121,
          "metadata": {},
          "output_type": "execute_result"
        }
      ],
      "source": [
        "func_exp_texto(4,4) # 4x4x4 = 64"
      ]
    },
    {
      "cell_type": "code",
      "execution_count": null,
      "metadata": {
        "id": "knvx9TAkOTaf"
      },
      "outputs": [],
      "source": [
        "# tuplas\n",
        "def func_exp_2_3(x):\n",
        "  \"\"\" Aquí debe documentar la función. \"\"\"\n",
        "  y_1 = x ** 2\n",
        "  y_2 = x ** 3\n",
        "  return (y_1, y_2)"
      ]
    },
    {
      "cell_type": "code",
      "execution_count": null,
      "metadata": {
        "id": "t-NUvrclTToo"
      },
      "outputs": [
        {
          "name": "stdout",
          "output_type": "stream",
          "text": [
            "<class 'int'>\n",
            "16\n",
            "<class 'int'>\n",
            "64\n"
          ]
        }
      ],
      "source": [
        "a, b = func_exp_2_3(4) # 4x4 = 16 , 4x4x4 = 64\n",
        "print(type(a)) # clase de objeto\n",
        "print(a)\n",
        "print(type(b))\n",
        "print(b)"
      ]
    },
    {
      "cell_type": "markdown",
      "metadata": {
        "id": "XECcj15L_r0H"
      },
      "source": [
        "## Lambda"
      ]
    },
    {
      "cell_type": "markdown",
      "metadata": {
        "id": "nmJM_YvpX7z9"
      },
      "source": [
        " Son funciones anónimas que solo pueden contener una expresión"
      ]
    },
    {
      "cell_type": "code",
      "execution_count": null,
      "metadata": {
        "id": "RnH-57QyAlJ7"
      },
      "outputs": [
        {
          "data": {
            "text/plain": [
              "<function __main__.<lambda>(arg_entrada)>"
            ]
          },
          "execution_count": 126,
          "metadata": {},
          "output_type": "execute_result"
        }
      ],
      "source": [
        "# funcion anonima lambda\n",
        "# arg_entrada  -> input y todo lo que va despues de los dos puntos es la instruccion de construccion de la salida\n",
        "lambda arg_entrada : arg_entrada+1"
      ]
    },
    {
      "cell_type": "code",
      "execution_count": null,
      "metadata": {
        "id": "rPg2o7K8dW91"
      },
      "outputs": [
        {
          "name": "stdout",
          "output_type": "stream",
          "text": [
            "<class 'str'>\n",
            "Hola, mundo\n"
          ]
        }
      ],
      "source": [
        "# funcion anonima\n",
        "func_lambda_txt = lambda arg1,arg2: arg1+', '+arg2\n",
        "# argumentos\n",
        "txt_1 = 'Hola'\n",
        "txt_2 = 'mundo'\n",
        "# obtener el resultado de aplicar la funcion\n",
        "txt = func_lambda_txt(txt_1,txt_2)\n",
        "# revisar resultados\n",
        "print(type(txt))\n",
        "print(txt)"
      ]
    },
    {
      "cell_type": "markdown",
      "metadata": {
        "id": "-zs05rxrYEPU"
      },
      "source": [
        "## función Map"
      ]
    },
    {
      "cell_type": "markdown",
      "metadata": {
        "id": "tpWPoX4cav_R"
      },
      "source": [
        "Para el procesamiento de objetos iterables como listas e iteradores se ha implementado algunas funciones de orden superior de uso común y estas devuelven un iterador que ahorra espacio."
      ]
    },
    {
      "cell_type": "code",
      "execution_count": null,
      "metadata": {
        "id": "VcIx8Vf5YDph"
      },
      "outputs": [
        {
          "name": "stdout",
          "output_type": "stream",
          "text": [
            "1, 4, 9, 16, 25, 36, "
          ]
        }
      ],
      "source": [
        "# defino una funcion que deseo aplicar a cada uno de los elementos de la lista\n",
        "def func_exp(x):\n",
        "  \"\"\" Aquí debe documentar la función. \"\"\"\n",
        "  y = x ** 2\n",
        "  return y\n",
        "\n",
        "# creo la lista\n",
        "list_a = [1, 2, 3, 4, 5, 6]\n",
        "\n",
        "# recorrer con el map la lista\n",
        "mapeado = map(func_exp, list_a)\n",
        "\n",
        "# recorra loss elemento resultado de hacer map\n",
        "for map_iterador in mapeado:\n",
        "    print(map_iterador, end = \", \")"
      ]
    },
    {
      "cell_type": "code",
      "execution_count": null,
      "metadata": {
        "id": "OGQxhdEAgcu6"
      },
      "outputs": [
        {
          "name": "stdout",
          "output_type": "stream",
          "text": [
            "1, 4, 9, 16, 25, 36, "
          ]
        }
      ],
      "source": [
        "# usando funciones anonimas lambda\n",
        "# crear una lista\n",
        "list_a = [1, 2, 3, 4, 5, 6]\n",
        "\n",
        "# va a recorrer la lista aplicando la funcion anonima lambda\n",
        "map_a = map(lambda x: x ** 2, list_a)\n",
        "\n",
        "# recorra loss elemento resultado de hacer map\n",
        "for map_i in map_a:\n",
        "    print(map_i, end = \", \")"
      ]
    },
    {
      "cell_type": "markdown",
      "metadata": {
        "id": "bAOwhfGMUIn6"
      },
      "source": [
        "## Errores y excepciones"
      ]
    },
    {
      "cell_type": "markdown",
      "metadata": {
        "id": "6mJtaWhoVN_I"
      },
      "source": [
        "Los errores de ejecución son llamados comúnmente excepciones. \\\n",
        "Durante la ejecución de un programa, si dentro de una función surge una excepción y la función no la maneja, la excepción se propaga hacia la función que la invocó, si esta otra tampoco la maneja, la excepción continua propagándose hasta llegar a la función inicial del programa y si esta tampoco la maneja se interrumpe la ejecución del programa"
      ]
    },
    {
      "cell_type": "code",
      "execution_count": 223,
      "metadata": {
        "colab": {
          "base_uri": "https://localhost:8080/",
          "height": 211
        },
        "id": "Yw8oxx4oKw5P",
        "outputId": "60b9fff3-970c-4b21-f48a-dd02f22dbbf7"
      },
      "outputs": [
        {
          "ename": "ZeroDivisionError",
          "evalue": "division by zero",
          "output_type": "error",
          "traceback": [
            "\u001b[1;31m---------------------------------------------------------------------------\u001b[0m",
            "\u001b[1;31mZeroDivisionError\u001b[0m                         Traceback (most recent call last)",
            "Cell \u001b[1;32mIn[223], line 3\u001b[0m\n\u001b[0;32m      1\u001b[0m dividendo \u001b[38;5;241m=\u001b[39m \u001b[38;5;241m5\u001b[39m\n\u001b[0;32m      2\u001b[0m divisor \u001b[38;5;241m=\u001b[39m \u001b[38;5;241m0\u001b[39m\n\u001b[1;32m----> 3\u001b[0m \u001b[43mdividendo\u001b[49m\u001b[43m \u001b[49m\u001b[38;5;241;43m/\u001b[39;49m\u001b[43m \u001b[49m\u001b[43mdivisor\u001b[49m\n",
            "\u001b[1;31mZeroDivisionError\u001b[0m: division by zero"
          ]
        }
      ],
      "source": [
        "dividendo = 5\n",
        "divisor = 0\n",
        "dividendo / divisor"
      ]
    },
    {
      "cell_type": "code",
      "execution_count": 228,
      "metadata": {
        "colab": {
          "base_uri": "https://localhost:8080/"
        },
        "id": "aVlbPG3OUICP",
        "outputId": "ed7b340f-6d68-4087-dd3b-2163d24382b3"
      },
      "outputs": [
        {
          "name": "stdout",
          "output_type": "stream",
          "text": [
            "0.0\n"
          ]
        }
      ],
      "source": [
        "dividendo = 0\n",
        "divisor = 5\n",
        "\n",
        "try: # intente realizar...\n",
        "  cociente = dividendo / divisor\n",
        "  print(cociente)\n",
        "except: # en caso de no poder realizarlo, haga lo siguiente\n",
        "  print(\"No se permite la división por cero\")"
      ]
    },
    {
      "cell_type": "code",
      "execution_count": 229,
      "metadata": {
        "colab": {
          "base_uri": "https://localhost:8080/",
          "height": 194
        },
        "id": "7m2SlrXWAlJ8",
        "outputId": "fed4bcc6-7bfa-4066-ee57-1f5aef686b9b"
      },
      "outputs": [
        {
          "ename": "IndexError",
          "evalue": "string index out of range",
          "output_type": "error",
          "traceback": [
            "\u001b[1;31m---------------------------------------------------------------------------\u001b[0m",
            "\u001b[1;31mIndexError\u001b[0m                                Traceback (most recent call last)",
            "Cell \u001b[1;32mIn[229], line 3\u001b[0m\n\u001b[0;32m      1\u001b[0m txt \u001b[38;5;241m=\u001b[39m \u001b[38;5;124m'\u001b[39m\u001b[38;5;124msiete\u001b[39m\u001b[38;5;124m'\u001b[39m \u001b[38;5;66;03m# asigno un texto a una variable\u001b[39;00m\n\u001b[1;32m----> 3\u001b[0m \u001b[38;5;28mprint\u001b[39m(\u001b[43mtxt\u001b[49m\u001b[43m[\u001b[49m\u001b[38;5;241;43m7\u001b[39;49m\u001b[43m]\u001b[49m)\n",
            "\u001b[1;31mIndexError\u001b[0m: string index out of range"
          ]
        }
      ],
      "source": [
        "txt = 'siete' # asigno un texto a una variable\n",
        "\n",
        "print(txt[7])"
      ]
    },
    {
      "cell_type": "code",
      "execution_count": 231,
      "metadata": {
        "colab": {
          "base_uri": "https://localhost:8080/"
        },
        "id": "3W55wnfLVZ1z",
        "outputId": "b3dd8f0a-a038-4c00-ec1f-5af9c800a77d"
      },
      "outputs": [
        {
          "name": "stdout",
          "output_type": "stream",
          "text": [
            "Ojo : no es por ahí No existe el elemento buscado\n"
          ]
        }
      ],
      "source": [
        "txt = 'siete' # asigno un texto a una variable\n",
        "\n",
        "try: # intente realizar...\n",
        "  print(txt[7])\n",
        "except: # en caso de no poder realizarlo, haga lo siguiente\n",
        "  print(\"Ojo : no es por ahí No existe el elemento buscado\")"
      ]
    },
    {
      "cell_type": "markdown",
      "metadata": {
        "id": "6Gh9sfak8kXq"
      },
      "source": [
        "## Bibliografía\n"
      ]
    },
    {
      "cell_type": "markdown",
      "metadata": {
        "id": "mOjNZPz7k4Ft"
      },
      "source": [
        "\n",
        "* BeginnersGuide. link :https://wiki.python.org/moin/BeginnersGuide/Programmers\n",
        "* Uniwebsidad. link :https://uniwebsidad.com/libros/algoritmos-python"
      ]
    }
  ],
  "metadata": {
    "colab": {
      "provenance": []
    },
    "kernelspec": {
      "display_name": "Python 3",
      "name": "python3"
    },
    "language_info": {
      "codemirror_mode": {
        "name": "ipython",
        "version": 3
      },
      "file_extension": ".py",
      "mimetype": "text/x-python",
      "name": "python",
      "nbconvert_exporter": "python",
      "pygments_lexer": "ipython3",
      "version": "3.12.2"
    }
  },
  "nbformat": 4,
  "nbformat_minor": 0
}
